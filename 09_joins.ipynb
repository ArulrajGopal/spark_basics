{
  "nbformat": 4,
  "nbformat_minor": 0,
  "metadata": {
    "colab": {
      "provenance": [],
      "authorship_tag": "ABX9TyPK0ZRFmj563np848rRlz9k",
      "include_colab_link": true
    },
    "kernelspec": {
      "name": "python3",
      "display_name": "Python 3"
    },
    "language_info": {
      "name": "python"
    }
  },
  "cells": [
    {
      "cell_type": "markdown",
      "metadata": {
        "id": "view-in-github",
        "colab_type": "text"
      },
      "source": [
        "<a href=\"https://colab.research.google.com/github/ArulrajGopal/Spark-Guide/blob/main/09_joins.ipynb\" target=\"_parent\"><img src=\"https://colab.research.google.com/assets/colab-badge.svg\" alt=\"Open In Colab\"/></a>"
      ]
    },
    {
      "cell_type": "code",
      "execution_count": null,
      "metadata": {
        "id": "QCF5-hhC5vLG"
      },
      "outputs": [],
      "source": [
        "!pip install pyspark\n",
        "\n",
        "from pyspark.sql import SparkSession\n",
        "\n",
        "#create spark session\n",
        "spark= SparkSession.builder.appName('mysparksession').getOrCreate()\n",
        "\n",
        "#create spark context\n",
        "sc = spark.sparkContext"
      ]
    },
    {
      "cell_type": "code",
      "source": [
        "from pyspark.sql import Row\n",
        "from pyspark.sql.functions import desc\n",
        "\n",
        "df = spark.createDataFrame([(2, \"Alice\"), (5, \"Bob\")]).toDF(\"age\", \"name\")\n",
        "\n",
        "df2 = spark.createDataFrame([Row(height=80, name=\"Tom\"),\n",
        "                             Row(height=85, name=\"Bob\")])\n",
        "\n",
        "df3 = spark.createDataFrame([Row(age=2, name=\"Alice\"), Row(age=5, name=\"Bob\")])\n",
        "\n",
        "df4 = spark.createDataFrame([\n",
        "    Row(age=10, height=80, name=\"Alice\"),\n",
        "    Row(age=5, height=None, name=\"Bob\"),\n",
        "    Row(age=None, height=None, name=\"Tom\"),\n",
        "    Row(age=None, height=None, name=None),\n",
        "])"
      ],
      "metadata": {
        "id": "bDx78L_O5voz"
      },
      "execution_count": null,
      "outputs": []
    },
    {
      "cell_type": "code",
      "source": [
        "#inner\n",
        "df.join(df2, 'name','inner').select('name','height').show()"
      ],
      "metadata": {
        "id": "aP6XgtIa51S2"
      },
      "execution_count": null,
      "outputs": []
    },
    {
      "cell_type": "code",
      "source": [
        "df.join(df2, \"name\", 'outer').select(\n",
        "    'name','height').show()"
      ],
      "metadata": {
        "id": "cwgKPYQY52iS"
      },
      "execution_count": null,
      "outputs": []
    }
  ]
}