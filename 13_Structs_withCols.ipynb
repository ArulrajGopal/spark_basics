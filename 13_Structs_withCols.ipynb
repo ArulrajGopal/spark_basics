{
  "nbformat": 4,
  "nbformat_minor": 0,
  "metadata": {
    "colab": {
      "provenance": [],
      "authorship_tag": "ABX9TyPhwo5xZo96xV9bIx104Ovp",
      "include_colab_link": true
    },
    "kernelspec": {
      "name": "python3",
      "display_name": "Python 3"
    },
    "language_info": {
      "name": "python"
    }
  },
  "cells": [
    {
      "cell_type": "markdown",
      "metadata": {
        "id": "view-in-github",
        "colab_type": "text"
      },
      "source": [
        "<a href=\"https://colab.research.google.com/github/ArulrajGopal/Spark-Guide/blob/main/13_Structs_withCols.ipynb\" target=\"_parent\"><img src=\"https://colab.research.google.com/assets/colab-badge.svg\" alt=\"Open In Colab\"/></a>"
      ]
    },
    {
      "cell_type": "code",
      "execution_count": null,
      "metadata": {
        "id": "mbmETREK2mLb"
      },
      "outputs": [],
      "source": [
        "\n",
        "!pip install pyspark\n",
        "\n",
        "from pyspark.sql import SparkSession\n",
        "\n",
        "#create spark session\n",
        "spark= SparkSession.builder.appName('mysparksession').getOrCreate()\n",
        "\n",
        "#create spark context\n",
        "sc = spark.sparkContext"
      ]
    },
    {
      "cell_type": "code",
      "source": [
        "import pyspark\n",
        "from pyspark.sql import SparkSession\n",
        "from pyspark.sql.types import StructType,StructField, StringType, IntegerType\n",
        "from pyspark.sql.functions import *\n",
        "\n",
        "spark = SparkSession.builder.appName('SparkByExamples.com').getOrCreate()\n",
        "\n",
        "dataDF = [(('James','','Smith'),'1991-04-01','M',3000),\n",
        "  (('Michael','Rose',''),'2000-05-19','M',4000),\n",
        "  (('Robert','','Williams'),'1978-09-05','M',4000),\n",
        "  (('Maria','Anne','Jones'),'1967-12-01','F',4000),\n",
        "  (('Jen','Mary','Brown'),'1980-02-17','F',-1)\n",
        "]\n",
        "\n",
        "schema = StructType([\n",
        "        StructField('name', StructType([\n",
        "             StructField('firstname', StringType(), True),\n",
        "             StructField('middlename', StringType(), True),\n",
        "             StructField('lastname', StringType(), True)\n",
        "             ])),\n",
        "         StructField('dob', StringType(), True),\n",
        "         StructField('gender', StringType(), True),\n",
        "         StructField('salary', IntegerType(), True)\n",
        "         ])\n",
        "\n",
        "df = spark.createDataFrame(data = dataDF, schema = schema)\n",
        "df.printSchema()\n",
        "\n",
        "# Example 1\n",
        "df.withColumnRenamed(\"dob\",\"DateOfBirth\").printSchema()\n",
        "# Example 2\n",
        "df2 = df.withColumnRenamed(\"dob\",\"DateOfBirth\") \\\n",
        "    .withColumnRenamed(\"salary\",\"salary_amount\")\n",
        "df2.printSchema()\n",
        "\n",
        "# Example 3\n",
        "schema2 = StructType([\n",
        "    StructField(\"fname\",StringType()),\n",
        "    StructField(\"middlename\",StringType()),\n",
        "    StructField(\"lname\",StringType())])\n",
        "\n",
        "df.select(col(\"name\").cast(schema2),\n",
        "  col(\"dob\"),\n",
        "  col(\"gender\"),\n",
        "  col(\"salary\")) \\\n",
        "    .printSchema()\n",
        "\n",
        "# Example 4\n",
        "df.select(col(\"name.firstname\").alias(\"fname\"),\n",
        "  col(\"name.middlename\").alias(\"mname\"),\n",
        "  col(\"name.lastname\").alias(\"lname\"),\n",
        "  col(\"dob\"),col(\"gender\"),col(\"salary\")) \\\n",
        "  .printSchema()\n",
        "\n",
        "# Example 5\n",
        "df4 = df.withColumn(\"fname\",col(\"name.firstname\")) \\\n",
        "      .withColumn(\"mname\",col(\"name.middlename\")) \\\n",
        "      .withColumn(\"lname\",col(\"name.lastname\")) \\\n",
        "      .drop(\"name\")\n",
        "df4.printSchema()\n",
        "\n",
        "#Example 7\n",
        "newColumns = [\"newCol1\",\"newCol2\",\"newCol3\",\"newCol4\"]\n",
        "df.toDF(*newColumns).printSchema()\n",
        "\n",
        "# Example 6\n",
        "'''\n",
        "not working\n",
        "old_columns = Seq(\"dob\",\"gender\",\"salary\",\"fname\",\"mname\",\"lname\")\n",
        "new_columns = Seq(\"DateOfBirth\",\"Sex\",\"salary\",\"firstName\",\"middleName\",\"lastName\")\n",
        "columnsList = old_columns.zip(new_columns).map(f=>{col(f._1).as(f._2)})\n",
        "df5 = df4.select(columnsList:_*)\n",
        "df5.printSchema()\n",
        "'''"
      ],
      "metadata": {
        "id": "NqS76mnZ2pC9"
      },
      "execution_count": null,
      "outputs": []
    }
  ]
}