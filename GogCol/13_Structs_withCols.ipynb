{
  "nbformat": 4,
  "nbformat_minor": 0,
  "metadata": {
    "colab": {
      "provenance": [],
      "authorship_tag": "ABX9TyMUWcH/R3hYKq5u4sVkgBh3",
      "include_colab_link": true
    },
    "kernelspec": {
      "name": "python3",
      "display_name": "Python 3"
    },
    "language_info": {
      "name": "python"
    }
  },
  "cells": [
    {
      "cell_type": "markdown",
      "metadata": {
        "id": "view-in-github",
        "colab_type": "text"
      },
      "source": [
        "<a href=\"https://colab.research.google.com/github/ArulrajGopal/Spark-Guide/blob/main/GogCol/13_Structs_withCols.ipynb\" target=\"_parent\"><img src=\"https://colab.research.google.com/assets/colab-badge.svg\" alt=\"Open In Colab\"/></a>"
      ]
    },
    {
      "cell_type": "code",
      "execution_count": 1,
      "metadata": {
        "id": "mbmETREK2mLb",
        "colab": {
          "base_uri": "https://localhost:8080/"
        },
        "outputId": "3c2aed40-f39d-4947-91c2-ca7f9b61d5a5"
      },
      "outputs": [
        {
          "output_type": "stream",
          "name": "stdout",
          "text": [
            "Collecting pyspark\n",
            "  Downloading pyspark-3.5.0.tar.gz (316.9 MB)\n",
            "\u001b[2K     \u001b[90m━━━━━━━━━━━━━━━━━━━━━━━━━━━━━━━━━━━━━━━━\u001b[0m \u001b[32m316.9/316.9 MB\u001b[0m \u001b[31m2.1 MB/s\u001b[0m eta \u001b[36m0:00:00\u001b[0m\n",
            "\u001b[?25h  Preparing metadata (setup.py) ... \u001b[?25l\u001b[?25hdone\n",
            "Requirement already satisfied: py4j==0.10.9.7 in /usr/local/lib/python3.10/dist-packages (from pyspark) (0.10.9.7)\n",
            "Building wheels for collected packages: pyspark\n",
            "  Building wheel for pyspark (setup.py) ... \u001b[?25l\u001b[?25hdone\n",
            "  Created wheel for pyspark: filename=pyspark-3.5.0-py2.py3-none-any.whl size=317425345 sha256=ead0b6e5b18667b214867265800ffb5a890d4ab0a344ca2048791af512159f8c\n",
            "  Stored in directory: /root/.cache/pip/wheels/41/4e/10/c2cf2467f71c678cfc8a6b9ac9241e5e44a01940da8fbb17fc\n",
            "Successfully built pyspark\n",
            "Installing collected packages: pyspark\n",
            "Successfully installed pyspark-3.5.0\n"
          ]
        }
      ],
      "source": [
        "!pip install pyspark\n",
        "\n",
        "from pyspark.sql import SparkSession\n",
        "\n",
        "#create spark session\n",
        "spark= SparkSession.builder.appName('mysparksession').getOrCreate()\n",
        "\n",
        "#create spark context\n",
        "sc = spark.sparkContext"
      ]
    },
    {
      "cell_type": "code",
      "source": [
        "from pyspark.sql.types import StructType,StructField, StringType, IntegerType\n",
        "from pyspark.sql.functions import *"
      ],
      "metadata": {
        "id": "OJ9JwLy53Pwb"
      },
      "execution_count": 2,
      "outputs": []
    },
    {
      "cell_type": "code",
      "source": [
        "dataDF = [(('James','','Smith'),'1991-04-01','M',3000),\n",
        "  (('Michael','Rose',''),'2000-05-19','M',4000),\n",
        "  (('Robert','','Williams'),'1978-09-05','M',4000),\n",
        "  (('Maria','Anne','Jones'),'1967-12-01','F',4000),\n",
        "  (('Jen','Mary','Brown'),'1980-02-17','F',-1)\n",
        "]"
      ],
      "metadata": {
        "id": "NqS76mnZ2pC9"
      },
      "execution_count": 3,
      "outputs": []
    },
    {
      "cell_type": "code",
      "source": [
        "schema = StructType([\n",
        "        StructField('name', StructType([\n",
        "             StructField('firstname', StringType(), True),\n",
        "             StructField('middlename', StringType(), True),\n",
        "             StructField('lastname', StringType(), True)\n",
        "             ])),\n",
        "         StructField('dob', StringType(), True),\n",
        "         StructField('gender', StringType(), True),\n",
        "         StructField('salary', IntegerType(), True)\n",
        "         ])\n",
        "\n",
        "df = spark.createDataFrame(data = dataDF, schema = schema)\n",
        "df.printSchema()"
      ],
      "metadata": {
        "id": "StcvGfExQXZ2",
        "outputId": "a82fe89c-b2d8-4e87-babe-a1160e3905fd",
        "colab": {
          "base_uri": "https://localhost:8080/"
        }
      },
      "execution_count": 4,
      "outputs": [
        {
          "output_type": "stream",
          "name": "stdout",
          "text": [
            "root\n",
            " |-- name: struct (nullable = true)\n",
            " |    |-- firstname: string (nullable = true)\n",
            " |    |-- middlename: string (nullable = true)\n",
            " |    |-- lastname: string (nullable = true)\n",
            " |-- dob: string (nullable = true)\n",
            " |-- gender: string (nullable = true)\n",
            " |-- salary: integer (nullable = true)\n",
            "\n"
          ]
        }
      ]
    },
    {
      "cell_type": "code",
      "source": [
        "df.show()"
      ],
      "metadata": {
        "id": "5FvqOTA9QXXX",
        "outputId": "77a08294-9056-4d49-aff0-81ffab358166",
        "colab": {
          "base_uri": "https://localhost:8080/"
        }
      },
      "execution_count": 5,
      "outputs": [
        {
          "output_type": "stream",
          "name": "stdout",
          "text": [
            "+--------------------+----------+------+------+\n",
            "|                name|       dob|gender|salary|\n",
            "+--------------------+----------+------+------+\n",
            "|    {James, , Smith}|1991-04-01|     M|  3000|\n",
            "|   {Michael, Rose, }|2000-05-19|     M|  4000|\n",
            "|{Robert, , Williams}|1978-09-05|     M|  4000|\n",
            "|{Maria, Anne, Jones}|1967-12-01|     F|  4000|\n",
            "|  {Jen, Mary, Brown}|1980-02-17|     F|    -1|\n",
            "+--------------------+----------+------+------+\n",
            "\n"
          ]
        }
      ]
    },
    {
      "cell_type": "code",
      "source": [
        "# Example 1\n",
        "df.withColumnRenamed(\"dob\",\"DateOfBirth\").show()"
      ],
      "metadata": {
        "colab": {
          "base_uri": "https://localhost:8080/"
        },
        "id": "hw3W_x-j3h1n",
        "outputId": "32d594ec-1e06-444d-94c6-455da993075c"
      },
      "execution_count": 6,
      "outputs": [
        {
          "output_type": "stream",
          "name": "stdout",
          "text": [
            "+--------------------+-----------+------+------+\n",
            "|                name|DateOfBirth|gender|salary|\n",
            "+--------------------+-----------+------+------+\n",
            "|    {James, , Smith}| 1991-04-01|     M|  3000|\n",
            "|   {Michael, Rose, }| 2000-05-19|     M|  4000|\n",
            "|{Robert, , Williams}| 1978-09-05|     M|  4000|\n",
            "|{Maria, Anne, Jones}| 1967-12-01|     F|  4000|\n",
            "|  {Jen, Mary, Brown}| 1980-02-17|     F|    -1|\n",
            "+--------------------+-----------+------+------+\n",
            "\n"
          ]
        }
      ]
    },
    {
      "cell_type": "code",
      "source": [
        "df.withColumn(\"fname\",col(\"name.firstname\")) \\\n",
        "      .withColumn(\"mname\",col(\"name.middlename\")) \\\n",
        "      .withColumn(\"lname\",col(\"name.lastname\")) \\\n",
        "      .drop(\"name\")\\\n",
        "      .show()"
      ],
      "metadata": {
        "colab": {
          "base_uri": "https://localhost:8080/"
        },
        "id": "4yMFrqT13mpH",
        "outputId": "ac799d90-f23d-4a93-cf78-d4dee3e3ceaf"
      },
      "execution_count": 7,
      "outputs": [
        {
          "output_type": "stream",
          "name": "stdout",
          "text": [
            "+----------+------+------+-------+-----+--------+\n",
            "|       dob|gender|salary|  fname|mname|   lname|\n",
            "+----------+------+------+-------+-----+--------+\n",
            "|1991-04-01|     M|  3000|  James|     |   Smith|\n",
            "|2000-05-19|     M|  4000|Michael| Rose|        |\n",
            "|1978-09-05|     M|  4000| Robert|     |Williams|\n",
            "|1967-12-01|     F|  4000|  Maria| Anne|   Jones|\n",
            "|1980-02-17|     F|    -1|    Jen| Mary|   Brown|\n",
            "+----------+------+------+-------+-----+--------+\n",
            "\n"
          ]
        }
      ]
    },
    {
      "cell_type": "code",
      "source": [
        "df.withColumn(\"timestamp_column\", current_timestamp())\\\n",
        " .withColumn(\"salary\",col(\"Salary\")/10)\\\n",
        " .show(truncate=False)"
      ],
      "metadata": {
        "colab": {
          "base_uri": "https://localhost:8080/"
        },
        "id": "4roK1WFa3-vN",
        "outputId": "81918033-a5eb-4de5-a297-4e60e626777f"
      },
      "execution_count": 9,
      "outputs": [
        {
          "output_type": "stream",
          "name": "stdout",
          "text": [
            "+--------------------+----------+------+------+--------------------------+\n",
            "|name                |dob       |gender|salary|timestamp_column          |\n",
            "+--------------------+----------+------+------+--------------------------+\n",
            "|{James, , Smith}    |1991-04-01|M     |300.0 |2024-02-01 06:05:39.411185|\n",
            "|{Michael, Rose, }   |2000-05-19|M     |400.0 |2024-02-01 06:05:39.411185|\n",
            "|{Robert, , Williams}|1978-09-05|M     |400.0 |2024-02-01 06:05:39.411185|\n",
            "|{Maria, Anne, Jones}|1967-12-01|F     |400.0 |2024-02-01 06:05:39.411185|\n",
            "|{Jen, Mary, Brown}  |1980-02-17|F     |-0.1  |2024-02-01 06:05:39.411185|\n",
            "+--------------------+----------+------+------+--------------------------+\n",
            "\n"
          ]
        }
      ]
    },
    {
      "cell_type": "code",
      "source": [],
      "metadata": {
        "id": "wDoSlDR44WOn"
      },
      "execution_count": null,
      "outputs": []
    }
  ]
}