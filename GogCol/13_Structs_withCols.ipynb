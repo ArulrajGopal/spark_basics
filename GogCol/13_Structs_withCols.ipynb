{
  "nbformat": 4,
  "nbformat_minor": 0,
  "metadata": {
    "colab": {
      "provenance": [],
      "authorship_tag": "ABX9TyMCau6qTl8XIHaILCMAuRDz",
      "include_colab_link": true
    },
    "kernelspec": {
      "name": "python3",
      "display_name": "Python 3"
    },
    "language_info": {
      "name": "python"
    }
  },
  "cells": [
    {
      "cell_type": "markdown",
      "metadata": {
        "id": "view-in-github",
        "colab_type": "text"
      },
      "source": [
        "<a href=\"https://colab.research.google.com/github/ArulrajGopal/Spark-Guide/blob/main/13_Structs_withCols.ipynb\" target=\"_parent\"><img src=\"https://colab.research.google.com/assets/colab-badge.svg\" alt=\"Open In Colab\"/></a>"
      ]
    },
    {
      "cell_type": "code",
      "execution_count": 4,
      "metadata": {
        "id": "mbmETREK2mLb",
        "colab": {
          "base_uri": "https://localhost:8080/"
        },
        "outputId": "ba4e2ee3-f233-4ce0-9665-72bf76505459"
      },
      "outputs": [
        {
          "output_type": "stream",
          "name": "stdout",
          "text": [
            "Requirement already satisfied: pyspark in /usr/local/lib/python3.10/dist-packages (3.5.0)\n",
            "Requirement already satisfied: py4j==0.10.9.7 in /usr/local/lib/python3.10/dist-packages (from pyspark) (0.10.9.7)\n"
          ]
        }
      ],
      "source": [
        "!pip install pyspark\n",
        "\n",
        "from pyspark.sql import SparkSession\n",
        "\n",
        "#create spark session\n",
        "spark= SparkSession.builder.appName('mysparksession').getOrCreate()\n",
        "\n",
        "#create spark context\n",
        "sc = spark.sparkContext"
      ]
    },
    {
      "cell_type": "code",
      "source": [
        "from pyspark.sql.types import StructType,StructField, StringType, IntegerType\n",
        "from pyspark.sql.functions import *"
      ],
      "metadata": {
        "id": "OJ9JwLy53Pwb"
      },
      "execution_count": 5,
      "outputs": []
    },
    {
      "cell_type": "code",
      "source": [
        "dataDF = [(('James','','Smith'),'1991-04-01','M',3000),\n",
        "  (('Michael','Rose',''),'2000-05-19','M',4000),\n",
        "  (('Robert','','Williams'),'1978-09-05','M',4000),\n",
        "  (('Maria','Anne','Jones'),'1967-12-01','F',4000),\n",
        "  (('Jen','Mary','Brown'),'1980-02-17','F',-1)\n",
        "]\n",
        "\n",
        "schema = StructType([\n",
        "        StructField('name', StructType([\n",
        "             StructField('firstname', StringType(), True),\n",
        "             StructField('middlename', StringType(), True),\n",
        "             StructField('lastname', StringType(), True)\n",
        "             ])),\n",
        "         StructField('dob', StringType(), True),\n",
        "         StructField('gender', StringType(), True),\n",
        "         StructField('salary', IntegerType(), True)\n",
        "         ])\n",
        "\n",
        "df = spark.createDataFrame(data = dataDF, schema = schema)\n",
        "df.printSchema()\n"
      ],
      "metadata": {
        "id": "NqS76mnZ2pC9",
        "colab": {
          "base_uri": "https://localhost:8080/"
        },
        "outputId": "3e92bd00-04cd-4c8c-82c8-b316c81013a6"
      },
      "execution_count": 6,
      "outputs": [
        {
          "output_type": "stream",
          "name": "stdout",
          "text": [
            "root\n",
            " |-- name: struct (nullable = true)\n",
            " |    |-- firstname: string (nullable = true)\n",
            " |    |-- middlename: string (nullable = true)\n",
            " |    |-- lastname: string (nullable = true)\n",
            " |-- dob: string (nullable = true)\n",
            " |-- gender: string (nullable = true)\n",
            " |-- salary: integer (nullable = true)\n",
            "\n"
          ]
        }
      ]
    },
    {
      "cell_type": "code",
      "source": [
        "# Example 1\n",
        "df.withColumnRenamed(\"dob\",\"DateOfBirth\").show()"
      ],
      "metadata": {
        "colab": {
          "base_uri": "https://localhost:8080/"
        },
        "id": "hw3W_x-j3h1n",
        "outputId": "7e7bf1a1-4800-427e-8aad-befc89712afa"
      },
      "execution_count": 13,
      "outputs": [
        {
          "output_type": "stream",
          "name": "stdout",
          "text": [
            "+--------------------+-----------+------+------+\n",
            "|                name|DateOfBirth|gender|salary|\n",
            "+--------------------+-----------+------+------+\n",
            "|    {James, , Smith}| 1991-04-01|     M|  3000|\n",
            "|   {Michael, Rose, }| 2000-05-19|     M|  4000|\n",
            "|{Robert, , Williams}| 1978-09-05|     M|  4000|\n",
            "|{Maria, Anne, Jones}| 1967-12-01|     F|  4000|\n",
            "|  {Jen, Mary, Brown}| 1980-02-17|     F|    -1|\n",
            "+--------------------+-----------+------+------+\n",
            "\n"
          ]
        }
      ]
    },
    {
      "cell_type": "code",
      "source": [
        "df.withColumn(\"fname\",col(\"name.firstname\")) \\\n",
        "      .withColumn(\"mname\",col(\"name.middlename\")) \\\n",
        "      .withColumn(\"lname\",col(\"name.lastname\")) \\\n",
        "      .drop(\"name\")\\\n",
        "      .show()"
      ],
      "metadata": {
        "colab": {
          "base_uri": "https://localhost:8080/"
        },
        "id": "4yMFrqT13mpH",
        "outputId": "22c0f208-5895-46b2-8ba7-47c195280516"
      },
      "execution_count": 14,
      "outputs": [
        {
          "output_type": "stream",
          "name": "stdout",
          "text": [
            "+----------+------+------+-------+-----+--------+\n",
            "|       dob|gender|salary|  fname|mname|   lname|\n",
            "+----------+------+------+-------+-----+--------+\n",
            "|1991-04-01|     M|  3000|  James|     |   Smith|\n",
            "|2000-05-19|     M|  4000|Michael| Rose|        |\n",
            "|1978-09-05|     M|  4000| Robert|     |Williams|\n",
            "|1967-12-01|     F|  4000|  Maria| Anne|   Jones|\n",
            "|1980-02-17|     F|    -1|    Jen| Mary|   Brown|\n",
            "+----------+------+------+-------+-----+--------+\n",
            "\n"
          ]
        }
      ]
    },
    {
      "cell_type": "code",
      "source": [
        "df.withColumn(\"timestamp_column\", current_timestamp())\\\n",
        " .withColumn(\"salary\",col(\"Salary\")/10)\\\n",
        " .show(truncate=False)"
      ],
      "metadata": {
        "colab": {
          "base_uri": "https://localhost:8080/"
        },
        "id": "4roK1WFa3-vN",
        "outputId": "4a3afe06-5de0-443a-c5cb-86be35bc3892"
      },
      "execution_count": 16,
      "outputs": [
        {
          "output_type": "stream",
          "name": "stdout",
          "text": [
            "+--------------------+----------+------+------+--------------------------+\n",
            "|name                |dob       |gender|salary|timestamp_column          |\n",
            "+--------------------+----------+------+------+--------------------------+\n",
            "|{James, , Smith}    |1991-04-01|M     |300.0 |2024-01-31 18:57:52.497996|\n",
            "|{Michael, Rose, }   |2000-05-19|M     |400.0 |2024-01-31 18:57:52.497996|\n",
            "|{Robert, , Williams}|1978-09-05|M     |400.0 |2024-01-31 18:57:52.497996|\n",
            "|{Maria, Anne, Jones}|1967-12-01|F     |400.0 |2024-01-31 18:57:52.497996|\n",
            "|{Jen, Mary, Brown}  |1980-02-17|F     |-0.1  |2024-01-31 18:57:52.497996|\n",
            "+--------------------+----------+------+------+--------------------------+\n",
            "\n"
          ]
        }
      ]
    },
    {
      "cell_type": "code",
      "source": [],
      "metadata": {
        "id": "wDoSlDR44WOn"
      },
      "execution_count": null,
      "outputs": []
    }
  ]
}
