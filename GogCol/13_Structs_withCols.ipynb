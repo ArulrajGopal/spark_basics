{
  "nbformat": 4,
  "nbformat_minor": 0,
  "metadata": {
    "colab": {
      "provenance": [],
      "authorship_tag": "ABX9TyOlHA4YZDGUK74aKIY5oXTL",
      "include_colab_link": true
    },
    "kernelspec": {
      "name": "python3",
      "display_name": "Python 3"
    },
    "language_info": {
      "name": "python"
    }
  },
  "cells": [
    {
      "cell_type": "markdown",
      "metadata": {
        "id": "view-in-github",
        "colab_type": "text"
      },
      "source": [
        "<a href=\"https://colab.research.google.com/github/ArulrajGopal/Spark-Guide/blob/main/GogCol/13_Structs_withCols.ipynb\" target=\"_parent\"><img src=\"https://colab.research.google.com/assets/colab-badge.svg\" alt=\"Open In Colab\"/></a>"
      ]
    },
    {
      "cell_type": "code",
      "execution_count": 10,
      "metadata": {
        "id": "mbmETREK2mLb",
        "colab": {
          "base_uri": "https://localhost:8080/"
        },
        "outputId": "199e3564-94cb-4e0f-8384-b47e67ce90e0"
      },
      "outputs": [
        {
          "output_type": "stream",
          "name": "stdout",
          "text": [
            "Requirement already satisfied: pyspark in /usr/local/lib/python3.10/dist-packages (3.5.0)\n",
            "Requirement already satisfied: py4j==0.10.9.7 in /usr/local/lib/python3.10/dist-packages (from pyspark) (0.10.9.7)\n"
          ]
        }
      ],
      "source": [
        "!pip install pyspark\n",
        "\n",
        "from pyspark.sql import SparkSession\n",
        "\n",
        "#create spark session\n",
        "spark= SparkSession.builder.appName('mysparksession').getOrCreate()\n",
        "\n",
        "#create spark context\n",
        "sc = spark.sparkContext"
      ]
    },
    {
      "cell_type": "code",
      "source": [
        "from pyspark.sql.types import StructType,StructField, StringType, IntegerType\n",
        "from pyspark.sql.functions import *"
      ],
      "metadata": {
        "id": "OJ9JwLy53Pwb"
      },
      "execution_count": 11,
      "outputs": []
    },
    {
      "cell_type": "code",
      "source": [
        "simpleData = [(\"James\",\"Sales\",\"NY\",90000,34,10000), \\\n",
        "    (\"Michael\",\"Sales\",\"NY\",86000,56,20000), \\\n",
        "    (\"Robert\",\"Sales\",\"CA\",81000,30,23000), \\\n",
        "    (\"Maria\",\"Finance\",\"CA\",90000,24,23000), \\\n",
        "    (\"Raman\",\"Finance\",\"CA\",99000,40,24000), \\\n",
        "    (\"Scott\",\"Finance\",\"NY\",83000,36,19000), \\\n",
        "    (\"Jen\",\"Finance\",\"NY\",79000,53,15000), \\\n",
        "    (\"Jeff\",\"Marketing\",\"CA\",80000,25,18000), \\\n",
        "    (\"Kumar\",\"Marketing\",\"NY\",91000,50,21000) \\\n",
        "  ]\n",
        "columns= [\"employee_name\",\"department\",\"state\",\"salary\",\"age\",\"bonus\"]\n",
        "# Create SparkSession\n",
        "\n",
        "df = spark.createDataFrame(simpleData,columns)\n",
        "df.printSchema()\n",
        "df.show(truncate=False)"
      ],
      "metadata": {
        "id": "tj3QlvbnSqZE",
        "outputId": "fe7f9e00-06d0-476f-bf0d-7d0bbe646884",
        "colab": {
          "base_uri": "https://localhost:8080/"
        }
      },
      "execution_count": 18,
      "outputs": [
        {
          "output_type": "stream",
          "name": "stdout",
          "text": [
            "root\n",
            " |-- employee_name: string (nullable = true)\n",
            " |-- department: string (nullable = true)\n",
            " |-- state: string (nullable = true)\n",
            " |-- salary: long (nullable = true)\n",
            " |-- age: long (nullable = true)\n",
            " |-- bonus: long (nullable = true)\n",
            "\n",
            "+-------------+----------+-----+------+---+-----+\n",
            "|employee_name|department|state|salary|age|bonus|\n",
            "+-------------+----------+-----+------+---+-----+\n",
            "|James        |Sales     |NY   |90000 |34 |10000|\n",
            "|Michael      |Sales     |NY   |86000 |56 |20000|\n",
            "|Robert       |Sales     |CA   |81000 |30 |23000|\n",
            "|Maria        |Finance   |CA   |90000 |24 |23000|\n",
            "|Raman        |Finance   |CA   |99000 |40 |24000|\n",
            "|Scott        |Finance   |NY   |83000 |36 |19000|\n",
            "|Jen          |Finance   |NY   |79000 |53 |15000|\n",
            "|Jeff         |Marketing |CA   |80000 |25 |18000|\n",
            "|Kumar        |Marketing |NY   |91000 |50 |21000|\n",
            "+-------------+----------+-----+------+---+-----+\n",
            "\n"
          ]
        }
      ]
    },
    {
      "cell_type": "code",
      "source": [
        "dataDF = [('james','1991-04-01','M',3000),\n",
        "  ('Michel','2000-05-19','M',4000),\n",
        "  ('Robert','1978-09-05','M',4000),\n",
        "  ('Maria','1967-12-01','F',4000),\n",
        "  ('Jen','1980-02-17','F',-1)\n",
        "]\n",
        "\n",
        "\n",
        "schema = StructType([StructField('name', StringType(), True),\n",
        "         StructField('dob', StringType(), True),\n",
        "         StructField('gender', StringType(), True),\n",
        "         StructField('salary', IntegerType(), True)\n",
        "         ])\n",
        "\n",
        "\n",
        "df = spark.createDataFrame(dataDF, schema)\n",
        "df.printSchema()"
      ],
      "metadata": {
        "id": "ZjTxWasfSDZS",
        "outputId": "5d12d7d6-ca5a-4844-82c5-f90922df612a",
        "colab": {
          "base_uri": "https://localhost:8080/"
        }
      },
      "execution_count": 21,
      "outputs": [
        {
          "output_type": "stream",
          "name": "stdout",
          "text": [
            "root\n",
            " |-- name: string (nullable = true)\n",
            " |-- dob: string (nullable = true)\n",
            " |-- gender: string (nullable = true)\n",
            " |-- salary: integer (nullable = true)\n",
            "\n"
          ]
        }
      ]
    },
    {
      "cell_type": "code",
      "source": [],
      "metadata": {
        "id": "tCeZBSoDTH4B"
      },
      "execution_count": null,
      "outputs": []
    },
    {
      "cell_type": "code",
      "source": [],
      "metadata": {
        "id": "0jZWVydATH1h"
      },
      "execution_count": null,
      "outputs": []
    },
    {
      "cell_type": "code",
      "source": [],
      "metadata": {
        "id": "ZmFEhrwUTHzC"
      },
      "execution_count": null,
      "outputs": []
    },
    {
      "cell_type": "code",
      "source": [
        "# dataDF = [('('James','','Smith')','1991-04-01','M',3000),\n",
        "#   (('Michael','Rose',''),'2000-05-19','M',4000),\n",
        "#   (('Robert','','Williams'),'1978-09-05','M',4000),\n",
        "#   (('Maria','Anne','Jones'),'1967-12-01','F',4000),\n",
        "#   (('Jen','Mary','Brown'),'1980-02-17','F',-1)\n",
        "# ]"
      ],
      "metadata": {
        "id": "SS39aBnxSfl-"
      },
      "execution_count": null,
      "outputs": []
    },
    {
      "cell_type": "code",
      "source": [],
      "metadata": {
        "id": "j1M9UZIlSfiR"
      },
      "execution_count": null,
      "outputs": []
    },
    {
      "cell_type": "code",
      "source": [
        "# # Example 1\n",
        "# df.withColumnRenamed(\"dob\",\"DateOfBirth\").show()"
      ],
      "metadata": {
        "colab": {
          "base_uri": "https://localhost:8080/"
        },
        "id": "hw3W_x-j3h1n",
        "outputId": "32d594ec-1e06-444d-94c6-455da993075c"
      },
      "execution_count": null,
      "outputs": [
        {
          "output_type": "stream",
          "name": "stdout",
          "text": [
            "+--------------------+-----------+------+------+\n",
            "|                name|DateOfBirth|gender|salary|\n",
            "+--------------------+-----------+------+------+\n",
            "|    {James, , Smith}| 1991-04-01|     M|  3000|\n",
            "|   {Michael, Rose, }| 2000-05-19|     M|  4000|\n",
            "|{Robert, , Williams}| 1978-09-05|     M|  4000|\n",
            "|{Maria, Anne, Jones}| 1967-12-01|     F|  4000|\n",
            "|  {Jen, Mary, Brown}| 1980-02-17|     F|    -1|\n",
            "+--------------------+-----------+------+------+\n",
            "\n"
          ]
        }
      ]
    },
    {
      "cell_type": "code",
      "source": [
        "# df.withColumn(\"fname\",col(\"name.firstname\")) \\\n",
        "#       .withColumn(\"mname\",col(\"name.middlename\")) \\\n",
        "#       .withColumn(\"lname\",col(\"name.lastname\")) \\\n",
        "#       .drop(\"name\")\\\n",
        "#       .show()"
      ],
      "metadata": {
        "colab": {
          "base_uri": "https://localhost:8080/"
        },
        "id": "4yMFrqT13mpH",
        "outputId": "ac799d90-f23d-4a93-cf78-d4dee3e3ceaf"
      },
      "execution_count": null,
      "outputs": [
        {
          "output_type": "stream",
          "name": "stdout",
          "text": [
            "+----------+------+------+-------+-----+--------+\n",
            "|       dob|gender|salary|  fname|mname|   lname|\n",
            "+----------+------+------+-------+-----+--------+\n",
            "|1991-04-01|     M|  3000|  James|     |   Smith|\n",
            "|2000-05-19|     M|  4000|Michael| Rose|        |\n",
            "|1978-09-05|     M|  4000| Robert|     |Williams|\n",
            "|1967-12-01|     F|  4000|  Maria| Anne|   Jones|\n",
            "|1980-02-17|     F|    -1|    Jen| Mary|   Brown|\n",
            "+----------+------+------+-------+-----+--------+\n",
            "\n"
          ]
        }
      ]
    },
    {
      "cell_type": "code",
      "source": [
        "# df.withColumn(\"timestamp_column\", current_timestamp())\\\n",
        "#  .withColumn(\"salary\",col(\"Salary\")/10)\\\n",
        "#  .show(truncate=False)"
      ],
      "metadata": {
        "colab": {
          "base_uri": "https://localhost:8080/"
        },
        "id": "4roK1WFa3-vN",
        "outputId": "81918033-a5eb-4de5-a297-4e60e626777f"
      },
      "execution_count": null,
      "outputs": [
        {
          "output_type": "stream",
          "name": "stdout",
          "text": [
            "+--------------------+----------+------+------+--------------------------+\n",
            "|name                |dob       |gender|salary|timestamp_column          |\n",
            "+--------------------+----------+------+------+--------------------------+\n",
            "|{James, , Smith}    |1991-04-01|M     |300.0 |2024-02-01 06:05:39.411185|\n",
            "|{Michael, Rose, }   |2000-05-19|M     |400.0 |2024-02-01 06:05:39.411185|\n",
            "|{Robert, , Williams}|1978-09-05|M     |400.0 |2024-02-01 06:05:39.411185|\n",
            "|{Maria, Anne, Jones}|1967-12-01|F     |400.0 |2024-02-01 06:05:39.411185|\n",
            "|{Jen, Mary, Brown}  |1980-02-17|F     |-0.1  |2024-02-01 06:05:39.411185|\n",
            "+--------------------+----------+------+------+--------------------------+\n",
            "\n"
          ]
        }
      ]
    },
    {
      "cell_type": "code",
      "source": [],
      "metadata": {
        "id": "wDoSlDR44WOn"
      },
      "execution_count": null,
      "outputs": []
    }
  ]
}