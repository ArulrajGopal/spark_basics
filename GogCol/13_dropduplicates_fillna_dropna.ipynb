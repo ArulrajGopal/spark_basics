{
  "nbformat": 4,
  "nbformat_minor": 0,
  "metadata": {
    "colab": {
      "provenance": [],
      "authorship_tag": "ABX9TyPK4jOT3TPm0PETykMHNZDP",
      "include_colab_link": true
    },
    "kernelspec": {
      "name": "python3",
      "display_name": "Python 3"
    },
    "language_info": {
      "name": "python"
    }
  },
  "cells": [
    {
      "cell_type": "markdown",
      "metadata": {
        "id": "view-in-github",
        "colab_type": "text"
      },
      "source": [
        "<a href=\"https://colab.research.google.com/github/ArulrajGopal/Spark-Guide/blob/main/GogCol/13_dropduplicates_fillna_dropna.ipynb\" target=\"_parent\"><img src=\"https://colab.research.google.com/assets/colab-badge.svg\" alt=\"Open In Colab\"/></a>"
      ]
    },
    {
      "cell_type": "code",
      "execution_count": 2,
      "metadata": {
        "id": "mbmETREK2mLb",
        "colab": {
          "base_uri": "https://localhost:8080/"
        },
        "outputId": "54df0988-08b0-499d-b84b-4c720d2cba3d"
      },
      "outputs": [
        {
          "output_type": "stream",
          "name": "stdout",
          "text": [
            "Collecting pyspark\n",
            "  Downloading pyspark-3.5.0.tar.gz (316.9 MB)\n",
            "\u001b[2K     \u001b[90m━━━━━━━━━━━━━━━━━━━━━━━━━━━━━━━━━━━━━━━━\u001b[0m \u001b[32m316.9/316.9 MB\u001b[0m \u001b[31m1.3 MB/s\u001b[0m eta \u001b[36m0:00:00\u001b[0m\n",
            "\u001b[?25h  Preparing metadata (setup.py) ... \u001b[?25l\u001b[?25hdone\n",
            "Requirement already satisfied: py4j==0.10.9.7 in /usr/local/lib/python3.10/dist-packages (from pyspark) (0.10.9.7)\n",
            "Building wheels for collected packages: pyspark\n",
            "  Building wheel for pyspark (setup.py) ... \u001b[?25l\u001b[?25hdone\n",
            "  Created wheel for pyspark: filename=pyspark-3.5.0-py2.py3-none-any.whl size=317425345 sha256=a1bf5ac1e433a587b812e5a077b2b8c17b41fb31ae1adc222650d5bbeec7aeb4\n",
            "  Stored in directory: /root/.cache/pip/wheels/41/4e/10/c2cf2467f71c678cfc8a6b9ac9241e5e44a01940da8fbb17fc\n",
            "Successfully built pyspark\n",
            "Installing collected packages: pyspark\n",
            "Successfully installed pyspark-3.5.0\n"
          ]
        }
      ],
      "source": [
        "!pip install pyspark\n",
        "\n",
        "from pyspark.sql import SparkSession\n",
        "\n",
        "#create spark session\n",
        "spark= SparkSession.builder.appName('mysparksession').getOrCreate()\n",
        "\n",
        "#create spark context\n",
        "sc = spark.sparkContext"
      ]
    },
    {
      "cell_type": "code",
      "source": [
        "\n",
        "data = [\n",
        "    (\"John\", 28, \"New York\"),\n",
        "    (\"Jane\", 24, \"San Francisco\"),\n",
        "    (\"Bob\", 22, \"Los Angeles\"),\n",
        "    (\"Alice\", 30, \"Chicago\"),\n",
        "    (\"Jane\", 24, \"San Francisco\"),\n",
        "    (\"Alice\", 70, \"Tokyo\"),\n",
        "    (\"Vievk\",34, None)\n",
        "]\n",
        "\n",
        "columns = [\"Name\", \"Age\",\"City\" ]\n",
        "\n",
        "\n",
        "df = spark.createDataFrame(data, columns)\n",
        "\n",
        "\n",
        "df.show()"
      ],
      "metadata": {
        "id": "tj3QlvbnSqZE",
        "outputId": "a94f5bb1-59bf-4496-afbe-8832cc8a751a",
        "colab": {
          "base_uri": "https://localhost:8080/"
        }
      },
      "execution_count": 3,
      "outputs": [
        {
          "output_type": "stream",
          "name": "stdout",
          "text": [
            "+-----+---+-------------+\n",
            "| Name|Age|         City|\n",
            "+-----+---+-------------+\n",
            "| John| 28|     New York|\n",
            "| Jane| 24|San Francisco|\n",
            "|  Bob| 22|  Los Angeles|\n",
            "|Alice| 30|      Chicago|\n",
            "| Jane| 24|San Francisco|\n",
            "|Alice| 70|        Tokyo|\n",
            "|Vievk| 34|         NULL|\n",
            "+-----+---+-------------+\n",
            "\n"
          ]
        }
      ]
    },
    {
      "cell_type": "code",
      "source": [
        "df4 = df.dropDuplicates()\n",
        "df5 = df.dropDuplicates([\"Name\"])\n",
        "df4.show()\n",
        "df5.show()"
      ],
      "metadata": {
        "id": "ZjTxWasfSDZS",
        "outputId": "909c9999-33d6-4bc0-a15d-dbeb246bc772",
        "colab": {
          "base_uri": "https://localhost:8080/"
        }
      },
      "execution_count": 4,
      "outputs": [
        {
          "output_type": "stream",
          "name": "stdout",
          "text": [
            "+-----+---+-------------+\n",
            "| Name|Age|         City|\n",
            "+-----+---+-------------+\n",
            "| Jane| 24|San Francisco|\n",
            "| John| 28|     New York|\n",
            "|  Bob| 22|  Los Angeles|\n",
            "|Alice| 70|        Tokyo|\n",
            "|Alice| 30|      Chicago|\n",
            "|Vievk| 34|         NULL|\n",
            "+-----+---+-------------+\n",
            "\n",
            "+-----+---+-------------+\n",
            "| Name|Age|         City|\n",
            "+-----+---+-------------+\n",
            "|Alice| 30|      Chicago|\n",
            "|  Bob| 22|  Los Angeles|\n",
            "| Jane| 24|San Francisco|\n",
            "| John| 28|     New York|\n",
            "|Vievk| 34|         NULL|\n",
            "+-----+---+-------------+\n",
            "\n"
          ]
        }
      ]
    },
    {
      "cell_type": "code",
      "source": [
        "\n",
        "df6 = df.dropna()\n",
        "df.show()"
      ],
      "metadata": {
        "id": "vjgp9jLEevh7"
      },
      "execution_count": null,
      "outputs": []
    },
    {
      "cell_type": "code",
      "source": [],
      "metadata": {
        "colab": {
          "base_uri": "https://localhost:8080/"
        },
        "id": "4roK1WFa3-vN",
        "outputId": "81918033-a5eb-4de5-a297-4e60e626777f"
      },
      "execution_count": null,
      "outputs": [
        {
          "output_type": "stream",
          "name": "stdout",
          "text": [
            "+--------------------+----------+------+------+--------------------------+\n",
            "|name                |dob       |gender|salary|timestamp_column          |\n",
            "+--------------------+----------+------+------+--------------------------+\n",
            "|{James, , Smith}    |1991-04-01|M     |300.0 |2024-02-01 06:05:39.411185|\n",
            "|{Michael, Rose, }   |2000-05-19|M     |400.0 |2024-02-01 06:05:39.411185|\n",
            "|{Robert, , Williams}|1978-09-05|M     |400.0 |2024-02-01 06:05:39.411185|\n",
            "|{Maria, Anne, Jones}|1967-12-01|F     |400.0 |2024-02-01 06:05:39.411185|\n",
            "|{Jen, Mary, Brown}  |1980-02-17|F     |-0.1  |2024-02-01 06:05:39.411185|\n",
            "+--------------------+----------+------+------+--------------------------+\n",
            "\n"
          ]
        }
      ]
    },
    {
      "cell_type": "code",
      "source": [],
      "metadata": {
        "id": "wDoSlDR44WOn"
      },
      "execution_count": null,
      "outputs": []
    }
  ]
}