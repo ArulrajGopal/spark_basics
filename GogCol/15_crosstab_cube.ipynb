{
  "nbformat": 4,
  "nbformat_minor": 0,
  "metadata": {
    "colab": {
      "provenance": [],
      "authorship_tag": "ABX9TyMYgCa9ukn7gcvIo3qQqbgy",
      "include_colab_link": true
    },
    "kernelspec": {
      "name": "python3",
      "display_name": "Python 3"
    },
    "language_info": {
      "name": "python"
    }
  },
  "cells": [
    {
      "cell_type": "markdown",
      "metadata": {
        "id": "view-in-github",
        "colab_type": "text"
      },
      "source": [
        "<a href=\"https://colab.research.google.com/github/ArulrajGopal/Spark-Guide/blob/main/GogCol/15_crosstab_cube.ipynb\" target=\"_parent\"><img src=\"https://colab.research.google.com/assets/colab-badge.svg\" alt=\"Open In Colab\"/></a>"
      ]
    },
    {
      "cell_type": "code",
      "execution_count": 3,
      "metadata": {
        "id": "xRXIAgiO5F9j",
        "outputId": "3b1bf4d7-677b-4767-f9c0-9b41c7742579",
        "colab": {
          "base_uri": "https://localhost:8080/"
        }
      },
      "outputs": [
        {
          "output_type": "stream",
          "name": "stdout",
          "text": [
            "Requirement already satisfied: pyspark in /usr/local/lib/python3.10/dist-packages (3.5.0)\n",
            "Requirement already satisfied: py4j==0.10.9.7 in /usr/local/lib/python3.10/dist-packages (from pyspark) (0.10.9.7)\n"
          ]
        }
      ],
      "source": [
        "!pip install pyspark\n",
        "\n",
        "from pyspark.sql import SparkSession\n",
        "\n",
        "#create spark session\n",
        "spark= SparkSession.builder.appName('mysparksession').getOrCreate()\n",
        "\n",
        "#create spark context\n",
        "sc = spark.sparkContext"
      ]
    },
    {
      "cell_type": "code",
      "source": [
        "from pyspark.sql.functions import sum"
      ],
      "metadata": {
        "id": "7AfqH98UNSB9"
      },
      "execution_count": 6,
      "outputs": []
    },
    {
      "cell_type": "code",
      "source": [
        "# Create a Spark session\n",
        "spark = SparkSession.builder.appName(\"example\").getOrCreate()\n",
        "\n",
        "# Sample data\n",
        "data = [\n",
        "    (\"2022-01-01\", \"Product1\", 10, 100.0),\n",
        "    (\"2022-01-01\", \"Product2\", 5, 50.0),\n",
        "    (\"2022-01-02\", \"Product1\", 8, 80.0),\n",
        "    (\"2022-01-02\", \"Product2\", 7, 70.0),\n",
        "    (\"2022-01-02\", \"Product3\", 3, 30.0),\n",
        "]\n",
        "\n",
        "# Define the schema\n",
        "schema = [\"Date\", \"Product\", \"Quantity\", \"Revenue\"]\n",
        "\n",
        "# Create a DataFrame\n",
        "df = spark.createDataFrame(data, schema=schema)"
      ],
      "metadata": {
        "id": "b3ZbuocOL_kY"
      },
      "execution_count": 7,
      "outputs": []
    },
    {
      "cell_type": "code",
      "source": [
        "df.show()\n",
        "\n",
        "df.cube(\"Date\", \"Product\").agg(sum(\"Quantity\").alias(\"TotalQuantity\"), sum(\"Revenue\").alias(\"TotalRevenue\")).show()\n",
        "\n",
        "\n",
        "df.crosstab(\"Date\", \"Product\").show()"
      ],
      "metadata": {
        "id": "5vmzwLNWNIIV",
        "outputId": "70639db8-b027-4524-e85d-54fbd946afb1",
        "colab": {
          "base_uri": "https://localhost:8080/"
        }
      },
      "execution_count": 9,
      "outputs": [
        {
          "output_type": "stream",
          "name": "stdout",
          "text": [
            "+----------+--------+--------+-------+\n",
            "|      Date| Product|Quantity|Revenue|\n",
            "+----------+--------+--------+-------+\n",
            "|2022-01-01|Product1|      10|  100.0|\n",
            "|2022-01-01|Product2|       5|   50.0|\n",
            "|2022-01-02|Product1|       8|   80.0|\n",
            "|2022-01-02|Product2|       7|   70.0|\n",
            "|2022-01-02|Product3|       3|   30.0|\n",
            "+----------+--------+--------+-------+\n",
            "\n",
            "+----------+--------+-------------+------------+\n",
            "|      Date| Product|TotalQuantity|TotalRevenue|\n",
            "+----------+--------+-------------+------------+\n",
            "|2022-01-01|Product1|           10|       100.0|\n",
            "|2022-01-01|    NULL|           15|       150.0|\n",
            "|      NULL|Product1|           18|       180.0|\n",
            "|      NULL|    NULL|           33|       330.0|\n",
            "|      NULL|Product2|           12|       120.0|\n",
            "|2022-01-01|Product2|            5|        50.0|\n",
            "|2022-01-02|    NULL|           18|       180.0|\n",
            "|      NULL|Product3|            3|        30.0|\n",
            "|2022-01-02|Product3|            3|        30.0|\n",
            "|2022-01-02|Product2|            7|        70.0|\n",
            "|2022-01-02|Product1|            8|        80.0|\n",
            "+----------+--------+-------------+------------+\n",
            "\n",
            "+------------+--------+--------+--------+\n",
            "|Date_Product|Product1|Product2|Product3|\n",
            "+------------+--------+--------+--------+\n",
            "|  2022-01-02|       1|       1|       1|\n",
            "|  2022-01-01|       1|       1|       0|\n",
            "+------------+--------+--------+--------+\n",
            "\n"
          ]
        }
      ]
    },
    {
      "cell_type": "code",
      "source": [],
      "metadata": {
        "id": "tFXBJyyMNEGO"
      },
      "execution_count": null,
      "outputs": []
    }
  ]
}