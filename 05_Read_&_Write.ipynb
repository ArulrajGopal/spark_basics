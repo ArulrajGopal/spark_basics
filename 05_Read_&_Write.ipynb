{
  "nbformat": 4,
  "nbformat_minor": 0,
  "metadata": {
    "colab": {
      "provenance": [],
      "mount_file_id": "18-poI3ZmLoG-obz8rWMPZ2BBz69SzE-g",
      "authorship_tag": "ABX9TyNrzr5yVQjxkbWD9dtG4vSE",
      "include_colab_link": true
    },
    "kernelspec": {
      "name": "python3",
      "display_name": "Python 3"
    },
    "language_info": {
      "name": "python"
    }
  },
  "cells": [
    {
      "cell_type": "markdown",
      "metadata": {
        "id": "view-in-github",
        "colab_type": "text"
      },
      "source": [
        "<a href=\"https://colab.research.google.com/github/ArulrajGopal/Spark-Guide/blob/main/05_Read_%26_Write.ipynb\" target=\"_parent\"><img src=\"https://colab.research.google.com/assets/colab-badge.svg\" alt=\"Open In Colab\"/></a>"
      ]
    },
    {
      "cell_type": "code",
      "source": [
        "!pip install pyspark\n",
        "\n",
        "from pyspark.sql import SparkSession\n",
        "\n",
        "#create spark session\n",
        "spark= SparkSession.builder.appName('mysparksession').getOrCreate()\n",
        "\n",
        "#create spark context\n",
        "sc = spark.sparkContext"
      ],
      "metadata": {
        "colab": {
          "base_uri": "https://localhost:8080/"
        },
        "id": "1h0a2D3UWdzf",
        "outputId": "8c81eeb4-b1d2-4ee7-bbbc-513be1b38b4e"
      },
      "execution_count": 1,
      "outputs": [
        {
          "output_type": "stream",
          "name": "stdout",
          "text": [
            "Collecting pyspark\n",
            "  Downloading pyspark-3.5.0.tar.gz (316.9 MB)\n",
            "\u001b[2K     \u001b[90m━━━━━━━━━━━━━━━━━━━━━━━━━━━━━━━━━━━━━━━━\u001b[0m \u001b[32m316.9/316.9 MB\u001b[0m \u001b[31m3.0 MB/s\u001b[0m eta \u001b[36m0:00:00\u001b[0m\n",
            "\u001b[?25h  Preparing metadata (setup.py) ... \u001b[?25l\u001b[?25hdone\n",
            "Requirement already satisfied: py4j==0.10.9.7 in /usr/local/lib/python3.10/dist-packages (from pyspark) (0.10.9.7)\n",
            "Building wheels for collected packages: pyspark\n",
            "  Building wheel for pyspark (setup.py) ... \u001b[?25l\u001b[?25hdone\n",
            "  Created wheel for pyspark: filename=pyspark-3.5.0-py2.py3-none-any.whl size=317425345 sha256=161deb0023474cee51ce154bd03ddf3cc6629505a365a0e91cd6a770e6e715ff\n",
            "  Stored in directory: /root/.cache/pip/wheels/41/4e/10/c2cf2467f71c678cfc8a6b9ac9241e5e44a01940da8fbb17fc\n",
            "Successfully built pyspark\n",
            "Installing collected packages: pyspark\n",
            "Successfully installed pyspark-3.5.0\n"
          ]
        }
      ]
    },
    {
      "cell_type": "code",
      "source": [
        "!ls"
      ],
      "metadata": {
        "colab": {
          "base_uri": "https://localhost:8080/"
        },
        "id": "0-EnCGPtAFe3",
        "outputId": "e0743031-67b9-4c0b-a1c2-834d47b1f962"
      },
      "execution_count": 2,
      "outputs": [
        {
          "output_type": "stream",
          "name": "stdout",
          "text": [
            "sample_data\n"
          ]
        }
      ]
    },
    {
      "cell_type": "code",
      "source": [
        "circuits_df = spark.read\\\n",
        "    .format(\"csv\")\\\n",
        "    .option('Header',True)\\\n",
        "    .option('InferSchema',True)\\\n",
        "    .load('circuits.csv')"
      ],
      "metadata": {
        "id": "GdJ8bKrF__oZ"
      },
      "execution_count": 4,
      "outputs": []
    },
    {
      "cell_type": "code",
      "source": [
        "circuits_df.printSchema()"
      ],
      "metadata": {
        "colab": {
          "base_uri": "https://localhost:8080/"
        },
        "id": "gd944z21BYNg",
        "outputId": "fde5c45e-cd8c-4369-8144-cf27fabb393f"
      },
      "execution_count": 5,
      "outputs": [
        {
          "output_type": "stream",
          "name": "stdout",
          "text": [
            "root\n",
            " |-- circuitId: integer (nullable = true)\n",
            " |-- circuitRef: string (nullable = true)\n",
            " |-- name: string (nullable = true)\n",
            " |-- location: string (nullable = true)\n",
            " |-- country: string (nullable = true)\n",
            " |-- lat: double (nullable = true)\n",
            " |-- lng: double (nullable = true)\n",
            " |-- alt: integer (nullable = true)\n",
            " |-- url: string (nullable = true)\n",
            "\n"
          ]
        }
      ]
    },
    {
      "cell_type": "code",
      "source": [
        "# schema = {\n",
        "# 'circuitId': 'INT',\n",
        "#  'circuitRef':'STRING',\n",
        "#  'name':'STRING',\n",
        "#  'location':'STRING',\n",
        "#  'country':'STRING',\n",
        "#  'lat':'Double',\n",
        "#  'lng':'Double',\n",
        "#  'alt':'int',\n",
        "#  'url':'STRING'\n",
        "# }\n",
        "\n",
        "# column_list = []\n",
        "# for column, datatype in schema.items():\n",
        "#     column_list.append(f\"cast({column} as {datatype}) {column}\")\n",
        "#     data_type_converted_df = circuits_df.selectExpr(column_list)"
      ],
      "metadata": {
        "id": "iE75ChuCARa_"
      },
      "execution_count": 6,
      "outputs": []
    },
    {
      "cell_type": "code",
      "source": [
        "circuits_df.write.mode('overwrite').parquet('/content/drive/MyDrive/ColabOutput/circuits')\n",
        "print(\"write successfull\")"
      ],
      "metadata": {
        "colab": {
          "base_uri": "https://localhost:8080/"
        },
        "id": "pdqSOegHB_vL",
        "outputId": "d2efb013-94ec-4e0d-be61-63ab98df3527"
      },
      "execution_count": 13,
      "outputs": [
        {
          "output_type": "stream",
          "name": "stdout",
          "text": [
            "write successfull\n"
          ]
        }
      ]
    },
    {
      "cell_type": "code",
      "source": [
        "!pwd"
      ],
      "metadata": {
        "colab": {
          "base_uri": "https://localhost:8080/"
        },
        "id": "YfOGvg7JDFdG",
        "outputId": "ae777c96-cfdd-4a8a-f058-0c53c7696ba8"
      },
      "execution_count": 8,
      "outputs": [
        {
          "output_type": "stream",
          "name": "stdout",
          "text": [
            "/content\n"
          ]
        }
      ]
    }
  ]
}